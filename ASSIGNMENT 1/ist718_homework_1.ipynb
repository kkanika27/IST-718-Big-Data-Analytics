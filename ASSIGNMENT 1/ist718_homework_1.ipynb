{
  "cells": [
    {
      "cell_type": "markdown",
      "metadata": {
        "id": "WW55Em3YQg8D"
      },
      "source": [
        "##### Grading Feedback Cell"
      ]
    },
    {
      "cell_type": "markdown",
      "metadata": {
        "deletable": false,
        "nbgrader": {
          "checksum": "4e6cefb0049d48a2f4648d752841bb06",
          "grade": false,
          "grade_id": "cell-b038e38b5e3072a9",
          "locked": false,
          "schema_version": 1,
          "solution": false
        },
        "id": "gf-QfJxIQg8F"
      },
      "source": [
        "# IST 718: Big Data Analytics\n",
        "\n",
        "- Professor: Emory Creel <emcreel@syr.edu>\n",
        "- Faculty Assistant: David Garcia\n",
        "## General instructions:\n",
        "\n",
        "- You are welcome to discuss the problems with your classmates but __you are not allowed to copy any part of your answers from your classmates.  Short code snippets are allowed from the internet.  Code from the class text books or class provided code can be copied in its entirety.__\n",
        "- __Do not change homework file names.__ The FAs and the professor use these names to grade your homework.  Changing file names may result in a point reduction penalty.\n",
        "- There could be tests in some cells (i.e., `assert` and `np.testing.` statements). These tests (if present) are used to grade your answers. **However, the professor and FAs could use __additional__ test for your answer. Think about cases where your code should run even if it passess all the tests you see.**\n",
        "- Before submitting your work, remember to check for run time errors with the following procedure:\n",
        "`Kernel`$\\rightarrow$`Restart and Run All`.  All runtime errors will result in a minimum penalty of half off.\n",
        "- Data Bricks is the official class runtime environment so you should test your code on Data Bricks before submission.  If there is a runtime problem in the grading environment, we will try your code on Data Bricks before making a final grading decision.\n",
        "- All plots shall include a title, and axis labels.\n",
        "- Grading feedback cells are there for graders to provide feedback to students.  Don't change or remove grading feedback cells."
      ]
    },
    {
      "cell_type": "code",
      "execution_count": 1,
      "metadata": {
        "id": "gbME08VAQg8G"
      },
      "outputs": [],
      "source": [
        "# import all needed packages in this cell\n"
      ]
    },
    {
      "cell_type": "code",
      "execution_count": 2,
      "metadata": {
        "deletable": false,
        "editable": false,
        "nbgrader": {
          "checksum": "da34aac4c035b267f3ff5816fd031fba",
          "grade": true,
          "grade_id": "cell-17c0ac01cace4b18",
          "locked": true,
          "points": 10,
          "schema_version": 1,
          "solution": false
        },
        "id": "LJNvVt65Qg8G",
        "outputId": "fbbb2d10-a097-4c0c-cd1f-43ddb107fd6d",
        "colab": {
          "base_uri": "https://localhost:8080/",
          "height": 531
        }
      },
      "outputs": [
        {
          "output_type": "display_data",
          "data": {
            "text/plain": [
              "  StreetNumber StreetName StreetNamePostType Directional  \\\n",
              "0          215  COMSTOCK                 AVE               \n",
              "1          700   MIDLAND                 AVE               \n",
              "2         1604     GRANT                BLVD               \n",
              "3          261    HOPPER                  RD               \n",
              "4         1821    VALLEY                  DR               \n",
              "\n",
              "                         strLocation           dtTime  streetID VehicleName  \\\n",
              "0      215 COMSTOCK AVE & HARRISON S   4/14/2016 8:57  12578124         DP2   \n",
              "1   700-06 MIDLAND AVE & CASTLE ST W   4/15/2016 9:01  12573231         DP1   \n",
              "2  1604-08 GRANT BLVD & WOODRUFF AVE  4/15/2016 13:03  12580306         DP1   \n",
              "3                      261 HOPPER RD  4/18/2016 10:39  12571704         DP2   \n",
              "4     1821 VALLEY DR & CHAFFEE AVE E  4/18/2016 10:52  12571710         DP2   \n",
              "\n",
              "    Latitude  Longitude  \n",
              "0 -76.130140  43.044159  \n",
              "1 -76.154074  43.031314  \n",
              "2 -76.138284  43.072356  \n",
              "3 -76.159681  42.998028  \n",
              "4 -76.152482  42.997837  "
            ],
            "text/html": [
              "\n",
              "  <div id=\"df-8c8233df-e5fa-407b-9097-23b920747d97\">\n",
              "    <div class=\"colab-df-container\">\n",
              "      <div>\n",
              "<style scoped>\n",
              "    .dataframe tbody tr th:only-of-type {\n",
              "        vertical-align: middle;\n",
              "    }\n",
              "\n",
              "    .dataframe tbody tr th {\n",
              "        vertical-align: top;\n",
              "    }\n",
              "\n",
              "    .dataframe thead th {\n",
              "        text-align: right;\n",
              "    }\n",
              "</style>\n",
              "<table border=\"1\" class=\"dataframe\">\n",
              "  <thead>\n",
              "    <tr style=\"text-align: right;\">\n",
              "      <th></th>\n",
              "      <th>StreetNumber</th>\n",
              "      <th>StreetName</th>\n",
              "      <th>StreetNamePostType</th>\n",
              "      <th>Directional</th>\n",
              "      <th>strLocation</th>\n",
              "      <th>dtTime</th>\n",
              "      <th>streetID</th>\n",
              "      <th>VehicleName</th>\n",
              "      <th>Latitude</th>\n",
              "      <th>Longitude</th>\n",
              "    </tr>\n",
              "  </thead>\n",
              "  <tbody>\n",
              "    <tr>\n",
              "      <th>0</th>\n",
              "      <td>215</td>\n",
              "      <td>COMSTOCK</td>\n",
              "      <td>AVE</td>\n",
              "      <td></td>\n",
              "      <td>215 COMSTOCK AVE &amp; HARRISON S</td>\n",
              "      <td>4/14/2016 8:57</td>\n",
              "      <td>12578124</td>\n",
              "      <td>DP2</td>\n",
              "      <td>-76.130140</td>\n",
              "      <td>43.044159</td>\n",
              "    </tr>\n",
              "    <tr>\n",
              "      <th>1</th>\n",
              "      <td>700</td>\n",
              "      <td>MIDLAND</td>\n",
              "      <td>AVE</td>\n",
              "      <td></td>\n",
              "      <td>700-06 MIDLAND AVE &amp; CASTLE ST W</td>\n",
              "      <td>4/15/2016 9:01</td>\n",
              "      <td>12573231</td>\n",
              "      <td>DP1</td>\n",
              "      <td>-76.154074</td>\n",
              "      <td>43.031314</td>\n",
              "    </tr>\n",
              "    <tr>\n",
              "      <th>2</th>\n",
              "      <td>1604</td>\n",
              "      <td>GRANT</td>\n",
              "      <td>BLVD</td>\n",
              "      <td></td>\n",
              "      <td>1604-08 GRANT BLVD &amp; WOODRUFF AVE</td>\n",
              "      <td>4/15/2016 13:03</td>\n",
              "      <td>12580306</td>\n",
              "      <td>DP1</td>\n",
              "      <td>-76.138284</td>\n",
              "      <td>43.072356</td>\n",
              "    </tr>\n",
              "    <tr>\n",
              "      <th>3</th>\n",
              "      <td>261</td>\n",
              "      <td>HOPPER</td>\n",
              "      <td>RD</td>\n",
              "      <td></td>\n",
              "      <td>261 HOPPER RD</td>\n",
              "      <td>4/18/2016 10:39</td>\n",
              "      <td>12571704</td>\n",
              "      <td>DP2</td>\n",
              "      <td>-76.159681</td>\n",
              "      <td>42.998028</td>\n",
              "    </tr>\n",
              "    <tr>\n",
              "      <th>4</th>\n",
              "      <td>1821</td>\n",
              "      <td>VALLEY</td>\n",
              "      <td>DR</td>\n",
              "      <td></td>\n",
              "      <td>1821 VALLEY DR &amp; CHAFFEE AVE E</td>\n",
              "      <td>4/18/2016 10:52</td>\n",
              "      <td>12571710</td>\n",
              "      <td>DP2</td>\n",
              "      <td>-76.152482</td>\n",
              "      <td>42.997837</td>\n",
              "    </tr>\n",
              "  </tbody>\n",
              "</table>\n",
              "</div>\n",
              "      <button class=\"colab-df-convert\" onclick=\"convertToInteractive('df-8c8233df-e5fa-407b-9097-23b920747d97')\"\n",
              "              title=\"Convert this dataframe to an interactive table.\"\n",
              "              style=\"display:none;\">\n",
              "        \n",
              "  <svg xmlns=\"http://www.w3.org/2000/svg\" height=\"24px\"viewBox=\"0 0 24 24\"\n",
              "       width=\"24px\">\n",
              "    <path d=\"M0 0h24v24H0V0z\" fill=\"none\"/>\n",
              "    <path d=\"M18.56 5.44l.94 2.06.94-2.06 2.06-.94-2.06-.94-.94-2.06-.94 2.06-2.06.94zm-11 1L8.5 8.5l.94-2.06 2.06-.94-2.06-.94L8.5 2.5l-.94 2.06-2.06.94zm10 10l.94 2.06.94-2.06 2.06-.94-2.06-.94-.94-2.06-.94 2.06-2.06.94z\"/><path d=\"M17.41 7.96l-1.37-1.37c-.4-.4-.92-.59-1.43-.59-.52 0-1.04.2-1.43.59L10.3 9.45l-7.72 7.72c-.78.78-.78 2.05 0 2.83L4 21.41c.39.39.9.59 1.41.59.51 0 1.02-.2 1.41-.59l7.78-7.78 2.81-2.81c.8-.78.8-2.07 0-2.86zM5.41 20L4 18.59l7.72-7.72 1.47 1.35L5.41 20z\"/>\n",
              "  </svg>\n",
              "      </button>\n",
              "      \n",
              "  <style>\n",
              "    .colab-df-container {\n",
              "      display:flex;\n",
              "      flex-wrap:wrap;\n",
              "      gap: 12px;\n",
              "    }\n",
              "\n",
              "    .colab-df-convert {\n",
              "      background-color: #E8F0FE;\n",
              "      border: none;\n",
              "      border-radius: 50%;\n",
              "      cursor: pointer;\n",
              "      display: none;\n",
              "      fill: #1967D2;\n",
              "      height: 32px;\n",
              "      padding: 0 0 0 0;\n",
              "      width: 32px;\n",
              "    }\n",
              "\n",
              "    .colab-df-convert:hover {\n",
              "      background-color: #E2EBFA;\n",
              "      box-shadow: 0px 1px 2px rgba(60, 64, 67, 0.3), 0px 1px 3px 1px rgba(60, 64, 67, 0.15);\n",
              "      fill: #174EA6;\n",
              "    }\n",
              "\n",
              "    [theme=dark] .colab-df-convert {\n",
              "      background-color: #3B4455;\n",
              "      fill: #D2E3FC;\n",
              "    }\n",
              "\n",
              "    [theme=dark] .colab-df-convert:hover {\n",
              "      background-color: #434B5C;\n",
              "      box-shadow: 0px 1px 3px 1px rgba(0, 0, 0, 0.15);\n",
              "      filter: drop-shadow(0px 1px 2px rgba(0, 0, 0, 0.3));\n",
              "      fill: #FFFFFF;\n",
              "    }\n",
              "  </style>\n",
              "\n",
              "      <script>\n",
              "        const buttonEl =\n",
              "          document.querySelector('#df-8c8233df-e5fa-407b-9097-23b920747d97 button.colab-df-convert');\n",
              "        buttonEl.style.display =\n",
              "          google.colab.kernel.accessAllowed ? 'block' : 'none';\n",
              "\n",
              "        async function convertToInteractive(key) {\n",
              "          const element = document.querySelector('#df-8c8233df-e5fa-407b-9097-23b920747d97');\n",
              "          const dataTable =\n",
              "            await google.colab.kernel.invokeFunction('convertToInteractive',\n",
              "                                                     [key], {});\n",
              "          if (!dataTable) return;\n",
              "\n",
              "          const docLinkHtml = 'Like what you see? Visit the ' +\n",
              "            '<a target=\"_blank\" href=https://colab.research.google.com/notebooks/data_table.ipynb>data table notebook</a>'\n",
              "            + ' to learn more about interactive tables.';\n",
              "          element.innerHTML = '';\n",
              "          dataTable['output_type'] = 'display_data';\n",
              "          await google.colab.output.renderOutput(dataTable, element);\n",
              "          const docLink = document.createElement('div');\n",
              "          docLink.innerHTML = docLinkHtml;\n",
              "          element.appendChild(docLink);\n",
              "        }\n",
              "      </script>\n",
              "    </div>\n",
              "  </div>\n",
              "  "
            ]
          },
          "metadata": {}
        }
      ],
      "source": [
        "# read only cell\n",
        "\n",
        "import os\n",
        "import pandas as pd\n",
        "\n",
        "# define the base data file name\n",
        "data_file_name = \"potholes_2016.csv\"\n",
        "\n",
        "# Define a function to read the data file.  The full path data file name is constructed\n",
        "# by checking runtime environment variables to determine if the runtime environment is \n",
        "# databricks, grading, or a student's personal computer.  The full path file name is then\n",
        "# constructed based on the runtime env.\n",
        "#\n",
        "# Notes:\n",
        "#   Graders, set the GRADING_RUNTME_ENV environment variable to contain the full path \n",
        "#   to the data file for this assignment.  For example, my grading_env var is set as \n",
        "#   follows on Windows:\n",
        "#   set GRADING_RUNTIME_ENV=c:/Users/Will/Desktop/SU/IST-718/datasets\n",
        "# \n",
        "# Params\n",
        "#   data_file_name: The base name of the data file to load\n",
        "# \n",
        "# Returns the full path file name based on the runtime env\n",
        "#\n",
        "def get_training_filename(data_file_name):  \n",
        "    # get the databricks runtime version\n",
        "    db_env = os.getenv(\"DATABRICKS_RUNTIME_VERSION\")\n",
        "    \n",
        "    # The grading_env variable contains the full path to the \n",
        "    # directory containing the data file.  \n",
        "    grading_env = os.getenv(\"GRADING_RUNTIME_ENV\")\n",
        "    \n",
        "    # if the databricks env var exists\n",
        "    if db_env != None:\n",
        "        # build the full path file name assuming data brick env\n",
        "        full_path_name = \"/dbfs/FileStore/tables/%s\" % data_file_name\n",
        "    # else if the grading environment variable exists\n",
        "    elif grading_env != None:\n",
        "        # build the full path file name assuming a grading env\n",
        "        full_path_name = \"%s/%s\" % (grading_env, data_file_name)\n",
        "    # else the data is assumed to be in the same dir as this notebook\n",
        "    else:\n",
        "        # Assume the student is running on their own computer and load the data\n",
        "        # file from the same dir as this notebook\n",
        "        full_path_name = data_file_name\n",
        "    \n",
        "    # return the full path file name to the caller\n",
        "    return full_path_name\n",
        "\n",
        "# read the potholes file into the potholes data frame\n",
        "potholes = pd.read_csv(get_training_filename(data_file_name))\n",
        "\n",
        "# display the head of the potholes data frame\n",
        "display(potholes.head())"
      ]
    },
    {
      "cell_type": "markdown",
      "metadata": {
        "id": "Digpr84eQg8I"
      },
      "source": [
        "**Question 1 (10 pts)** Write a function named reverse_by_three that receives a numpy array, python list, or tuple as an input argument and starting at the 2nd from last element, returns every 3rd element of the list in reverse order.  It is legal to return an empty python list, numpy array, or tuple if the input.  Use slicing syntax exclusively to perform the operations.  Your code should be efficient as possible and not use a lot of extraneous un-needed code in the solution."
      ]
    },
    {
      "cell_type": "code",
      "execution_count": 3,
      "metadata": {
        "deletable": false,
        "nbgrader": {
          "checksum": "085f5b48fbce649d8e6a5f12381f40ce",
          "grade": false,
          "grade_id": "cell-5eb87107d2800505",
          "locked": false,
          "schema_version": 1,
          "solution": true
        },
        "id": "xoZE5QjAQg8I"
      },
      "outputs": [],
      "source": [
        "# Create the function reverse_by_three here\n",
        "import numpy as np\n",
        "\n",
        "def reverse_by_three(input_list):\n",
        "       if len(input_list) < 2:\n",
        "             return[]\n",
        "       else:\n",
        "           return input_list[-2::-3]"
      ]
    },
    {
      "cell_type": "code",
      "execution_count": 4,
      "metadata": {
        "deletable": false,
        "editable": false,
        "nbgrader": {
          "checksum": "da34aac4c035b267f3ff5816fd031fba",
          "grade": true,
          "grade_id": "cell-17c0ac01cace4b18",
          "locked": true,
          "points": 10,
          "schema_version": 1,
          "solution": false
        },
        "id": "_iZwBzeZQg8I",
        "colab": {
          "base_uri": "https://localhost:8080/"
        },
        "outputId": "5ac7391b-549e-46c9-c13c-82ea0c100eca"
      },
      "outputs": [
        {
          "output_type": "execute_result",
          "data": {
            "text/plain": [
              "array([5, 2])"
            ]
          },
          "metadata": {},
          "execution_count": 4
        }
      ],
      "source": [
        "# For grading use only (question 1)\n",
        "reverse_by_three(np.array([1,2,3,4,5,6]))"
      ]
    },
    {
      "cell_type": "markdown",
      "metadata": {
        "id": "oeBwsD73Qg8I"
      },
      "source": [
        "##### Grading Feedback Cell"
      ]
    },
    {
      "cell_type": "markdown",
      "metadata": {
        "id": "oOorD3QGQg8I"
      },
      "source": [
        "**Question 2 (10 pts)** Create a python class named my_statistics.  The my_statisitics class should require a single numpy array argument in its constructor.  Implement the following statistical methods in the my_statistics class: get_mean, get_pop_std, get_sample_std, get_min, and get_max.  The get_pop_std method shall return the standard deviation assuming the constructor argument is a complete population.  The get_sample_std method shall return the standard deviation assuming that the constructor argument is a sample of a population.  The get_min and get_max methods shall return the min and max of the constructor argument respectively.  The get_mean method shall return the mean.  Use numpy functions to perform the statistical calculations.  "
      ]
    },
    {
      "cell_type": "code",
      "execution_count": 5,
      "metadata": {
        "deletable": false,
        "nbgrader": {
          "checksum": "93c89a396ab6aa6ace9fe98663691b74",
          "grade": false,
          "grade_id": "cell-48471c8515aa4e5c",
          "locked": false,
          "schema_version": 1,
          "solution": true
        },
        "id": "SYYj2NcsQg8J"
      },
      "outputs": [],
      "source": [
        "# create the my_statistics class here(my_code)\n",
        "import numpy as np\n",
        "\n",
        "class my_statistics():\n",
        "  def __init__(self,value):\n",
        "    self.a = value\n",
        "  def get_mean(self):\n",
        "    return np.mean(self.a)\n",
        "  def get_pop_std(self):\n",
        "    return np.std(self.a)\n",
        "  def get_sample_std(self):\n",
        "    return np.std(self.a,ddof=1)\n",
        "  def get_min(self):\n",
        "    return np.min(self.a)\n",
        "  def get_max(self):\n",
        "    return np.max(self.a)"
      ]
    },
    {
      "cell_type": "code",
      "execution_count": 6,
      "metadata": {
        "deletable": false,
        "nbgrader": {
          "checksum": "da34aac4c035b267f3ff5816fd031fba",
          "grade": true,
          "grade_id": "cell-17c0ac01cace4b18",
          "locked": true,
          "points": 10,
          "schema_version": 1,
          "solution": false
        },
        "id": "AkDjwlI0Qg8J",
        "colab": {
          "base_uri": "https://localhost:8080/"
        },
        "outputId": "86a7f280-ac8e-4199-b185-86a49c9c5a20"
      },
      "outputs": [
        {
          "output_type": "stream",
          "name": "stdout",
          "text": [
            "-6.066666666666666\n",
            "85.59086140211205\n",
            "88.59495847206355\n",
            "-310\n",
            "99\n"
          ]
        }
      ],
      "source": [
        "# For grading use only (question 2)\n",
        "stats_data = np.array([12, 17, 9, 13, -5, -7, -9, -11, 39, 42, 17, 2, 99, 1, -310])\n",
        "my_stats = my_statistics(stats_data)\n",
        "print(my_stats.get_mean())\n",
        "print(my_stats.get_pop_std())\n",
        "print(my_stats.get_sample_std())\n",
        "print(my_stats.get_min())\n",
        "print(my_stats.get_max())"
      ]
    },
    {
      "cell_type": "markdown",
      "metadata": {
        "id": "J4FKse6dQg8J"
      },
      "source": [
        "##### Grading Feedback Cell"
      ]
    },
    {
      "cell_type": "markdown",
      "metadata": {
        "id": "mJxIKQRLQg8J"
      },
      "source": [
        "**Question 3 (30 pts)** Create a function named monte_hall that takes as an argument the number of times to iterate a monte-carlo simulation of the Monte Hall problem with 4 doors and 1 prize.   (https://en.wikipedia.org/wiki/Monty_Hall_problem).   \n",
        "For simplicity, you can assume that the game player always initially chooses door A and the host will open one door.  The prize may be behind any of the 4 doors.  The monte_hall function should print answers to the following 2 questions:  Based on the simulation, what is the probability of winning if you switch doors, and what is the probability of winning if you keep door A?  Your function should return these values in a tuple (prob_win_if_switch, prob_win_if_keep)."
      ]
    },
    {
      "cell_type": "code",
      "execution_count": 7,
      "metadata": {
        "id": "ydx0L5vaQg8J"
      },
      "outputs": [],
      "source": [
        "# monte_hall function here(my_code)\n",
        "from random import shuffle, choice\n",
        "\n",
        "def monte_carlo():\n",
        "    # Create the doors with random allocation of the car i.e 1\n",
        "    doors = [1, 0, 0, 0]\n",
        "    shuffle(doors)\n",
        "\n",
        "    # Choose a door among the three\n",
        "    door_selected = choice([0, 1, 2, 3])\n",
        "\n",
        "    # Open the door that does not have the car\n",
        "    non_car_doors = list()\n",
        "    for i,d in enumerate(doors):\n",
        "        if d == 0 and i != door_selected: non_car_doors.append(i)\n",
        "\n",
        "    door_opened = choice(non_car_doors)\n",
        "\n",
        "    # Success if the player does not switch\n",
        "    non_switch_success =  True if doors[door_selected] == 1 else False\n",
        "\n",
        "    # Success if the player switches\n",
        "    remaining_door = set([0,1,2, 3]).difference([door_selected, door_opened])\n",
        "    remaining_door = remaining_door.pop()\n",
        "    switch_success =  True if doors[remaining_door] == 1 else False\n",
        "\n",
        "    return non_switch_success, switch_success\n",
        "\n",
        "\n",
        "def monte_hall(n):\n",
        "    non_switch_success_count = 0\n",
        "    switch_success_count = 0\n",
        "\n",
        "    for i in range(n):\n",
        "        ns, ss = monte_carlo()\n",
        "        non_switch_success_count += ns\n",
        "        switch_success_count += ss\n",
        "\n",
        "    print(f\"Number of plays: {n}\")\n",
        "    print(f\"Number of success on switch: {switch_success_count}  {(switch_success_count/n)*100}%\")\n",
        "    print(f\"Number of success on non-switch: {non_switch_success_count}  {(non_switch_success_count/n)*100}%\")"
      ]
    },
    {
      "cell_type": "code",
      "execution_count": 8,
      "metadata": {
        "deletable": false,
        "editable": false,
        "nbgrader": {
          "checksum": "2d488b9ce0d64d863d724afc6ca32625",
          "grade": false,
          "grade_id": "cell-8804dcdb0db3c1bb",
          "locked": false,
          "schema_version": 1,
          "solution": true
        },
        "id": "zXUH1rjQQg8J",
        "colab": {
          "base_uri": "https://localhost:8080/"
        },
        "outputId": "74f78a52-2e48-4d18-d52b-a7d52d1431c1"
      },
      "outputs": [
        {
          "output_type": "stream",
          "name": "stdout",
          "text": [
            "Number of plays: 10000\n",
            "Number of success on switch: 3671  36.71%\n",
            "Number of success on non-switch: 2587  25.869999999999997%\n",
            "None\n"
          ]
        }
      ],
      "source": [
        "# For grading use only (question 3)\n",
        "print(monte_hall(10000))"
      ]
    },
    {
      "cell_type": "markdown",
      "metadata": {
        "id": "JneHbEAmQg8K"
      },
      "source": [
        "##### Grading Feedback Cell"
      ]
    },
    {
      "cell_type": "markdown",
      "metadata": {
        "id": "3_hpdKdFQg8K"
      },
      "source": [
        "##### **Question 4 (10 pts)** Create a numpy array containing 10,000 samples of random normal data with a mean of 5 and a variance of 4.  Plot a histogram of the data using matplotlib."
      ]
    },
    {
      "cell_type": "code",
      "execution_count": 9,
      "metadata": {
        "id": "RXrgoilhQg8K",
        "colab": {
          "base_uri": "https://localhost:8080/",
          "height": 283
        },
        "outputId": "78afb634-962f-4040-fc32-7ff927f3cb63"
      },
      "outputs": [
        {
          "output_type": "stream",
          "name": "stdout",
          "text": [
            "2.0\n"
          ]
        },
        {
          "output_type": "display_data",
          "data": {
            "text/plain": [
              "<Figure size 432x288 with 1 Axes>"
            ],
            "image/png": "[encoded data removed]"
          },
          "metadata": {
            "needs_background": "light"
          }
        }
      ],
      "source": [
        "# your histogram plot code here\n",
        "import numpy as np\n",
        "import math\n",
        "from matplotlib import pyplot as plt\n",
        "\n",
        "var = 4\n",
        "sd = math.sqrt(var)\n",
        "print(sd)\n",
        "\n",
        "a = np.random.normal(size = 10000, loc = 5, scale = 2)\n",
        "\n",
        "fig = plt.figure()\n",
        "ax = plt.axes()\n",
        "ax.hist(a)\n",
        "\n",
        "plt.show()\n"
      ]
    },
    {
      "cell_type": "markdown",
      "metadata": {
        "id": "uLRfpJCNQg8K"
      },
      "source": [
        "##### Grading Feedback Cell"
      ]
    },
    {
      "cell_type": "markdown",
      "metadata": {
        "id": "Flep795_Qg8K"
      },
      "source": [
        "#### Question 5 (10 pts) The below cell creates a pandas dataframe called iris_df.  Write a function named plot_iris_grid that uses matplotlib to create a grid of 16 scatter plots of all combinatations of the columns in the iris_df data frame.  For example, the first row should be sepal len vs sepal len, sepal len vs sepal width, sepal len vs petal len, sepal len vs petal width."
      ]
    },
    {
      "cell_type": "code",
      "execution_count": 10,
      "metadata": {
        "id": "s_Z0kMCPQg8K",
        "colab": {
          "base_uri": "https://localhost:8080/",
          "height": 206
        },
        "outputId": "d7189e07-b203-45df-f3f2-c9887f641dec"
      },
      "outputs": [
        {
          "output_type": "display_data",
          "data": {
            "text/plain": [
              "   sepal length (cm)  sepal width (cm)  petal length (cm)  petal width (cm)\n",
              "0                5.1               3.5                1.4               0.2\n",
              "1                4.9               3.0                1.4               0.2\n",
              "2                4.7               3.2                1.3               0.2\n",
              "3                4.6               3.1                1.5               0.2\n",
              "4                5.0               3.6                1.4               0.2"
            ],
            "text/html": [
              "\n",
              "  <div id=\"df-5d982523-fad3-4692-837c-cd395713b0fb\">\n",
              "    <div class=\"colab-df-container\">\n",
              "      <div>\n",
              "<style scoped>\n",
              "    .dataframe tbody tr th:only-of-type {\n",
              "        vertical-align: middle;\n",
              "    }\n",
              "\n",
              "    .dataframe tbody tr th {\n",
              "        vertical-align: top;\n",
              "    }\n",
              "\n",
              "    .dataframe thead th {\n",
              "        text-align: right;\n",
              "    }\n",
              "</style>\n",
              "<table border=\"1\" class=\"dataframe\">\n",
              "  <thead>\n",
              "    <tr style=\"text-align: right;\">\n",
              "      <th></th>\n",
              "      <th>sepal length (cm)</th>\n",
              "      <th>sepal width (cm)</th>\n",
              "      <th>petal length (cm)</th>\n",
              "      <th>petal width (cm)</th>\n",
              "    </tr>\n",
              "  </thead>\n",
              "  <tbody>\n",
              "    <tr>\n",
              "      <th>0</th>\n",
              "      <td>5.1</td>\n",
              "      <td>3.5</td>\n",
              "      <td>1.4</td>\n",
              "      <td>0.2</td>\n",
              "    </tr>\n",
              "    <tr>\n",
              "      <th>1</th>\n",
              "      <td>4.9</td>\n",
              "      <td>3.0</td>\n",
              "      <td>1.4</td>\n",
              "      <td>0.2</td>\n",
              "    </tr>\n",
              "    <tr>\n",
              "      <th>2</th>\n",
              "      <td>4.7</td>\n",
              "      <td>3.2</td>\n",
              "      <td>1.3</td>\n",
              "      <td>0.2</td>\n",
              "    </tr>\n",
              "    <tr>\n",
              "      <th>3</th>\n",
              "      <td>4.6</td>\n",
              "      <td>3.1</td>\n",
              "      <td>1.5</td>\n",
              "      <td>0.2</td>\n",
              "    </tr>\n",
              "    <tr>\n",
              "      <th>4</th>\n",
              "      <td>5.0</td>\n",
              "      <td>3.6</td>\n",
              "      <td>1.4</td>\n",
              "      <td>0.2</td>\n",
              "    </tr>\n",
              "  </tbody>\n",
              "</table>\n",
              "</div>\n",
              "      <button class=\"colab-df-convert\" onclick=\"convertToInteractive('df-5d982523-fad3-4692-837c-cd395713b0fb')\"\n",
              "              title=\"Convert this dataframe to an interactive table.\"\n",
              "              style=\"display:none;\">\n",
              "        \n",
              "  <svg xmlns=\"http://www.w3.org/2000/svg\" height=\"24px\"viewBox=\"0 0 24 24\"\n",
              "       width=\"24px\">\n",
              "    <path d=\"M0 0h24v24H0V0z\" fill=\"none\"/>\n",
              "    <path d=\"M18.56 5.44l.94 2.06.94-2.06 2.06-.94-2.06-.94-.94-2.06-.94 2.06-2.06.94zm-11 1L8.5 8.5l.94-2.06 2.06-.94-2.06-.94L8.5 2.5l-.94 2.06-2.06.94zm10 10l.94 2.06.94-2.06 2.06-.94-2.06-.94-.94-2.06-.94 2.06-2.06.94z\"/><path d=\"M17.41 7.96l-1.37-1.37c-.4-.4-.92-.59-1.43-.59-.52 0-1.04.2-1.43.59L10.3 9.45l-7.72 7.72c-.78.78-.78 2.05 0 2.83L4 21.41c.39.39.9.59 1.41.59.51 0 1.02-.2 1.41-.59l7.78-7.78 2.81-2.81c.8-.78.8-2.07 0-2.86zM5.41 20L4 18.59l7.72-7.72 1.47 1.35L5.41 20z\"/>\n",
              "  </svg>\n",
              "      </button>\n",
              "      \n",
              "  <style>\n",
              "    .colab-df-container {\n",
              "      display:flex;\n",
              "      flex-wrap:wrap;\n",
              "      gap: 12px;\n",
              "    }\n",
              "\n",
              "    .colab-df-convert {\n",
              "      background-color: #E8F0FE;\n",
              "      border: none;\n",
              "      border-radius: 50%;\n",
              "      cursor: pointer;\n",
              "      display: none;\n",
              "      fill: #1967D2;\n",
              "      height: 32px;\n",
              "      padding: 0 0 0 0;\n",
              "      width: 32px;\n",
              "    }\n",
              "\n",
              "    .colab-df-convert:hover {\n",
              "      background-color: #E2EBFA;\n",
              "      box-shadow: 0px 1px 2px rgba(60, 64, 67, 0.3), 0px 1px 3px 1px rgba(60, 64, 67, 0.15);\n",
              "      fill: #174EA6;\n",
              "    }\n",
              "\n",
              "    [theme=dark] .colab-df-convert {\n",
              "      background-color: #3B4455;\n",
              "      fill: #D2E3FC;\n",
              "    }\n",
              "\n",
              "    [theme=dark] .colab-df-convert:hover {\n",
              "      background-color: #434B5C;\n",
              "      box-shadow: 0px 1px 3px 1px rgba(0, 0, 0, 0.15);\n",
              "      filter: drop-shadow(0px 1px 2px rgba(0, 0, 0, 0.3));\n",
              "      fill: #FFFFFF;\n",
              "    }\n",
              "  </style>\n",
              "\n",
              "      <script>\n",
              "        const buttonEl =\n",
              "          document.querySelector('#df-5d982523-fad3-4692-837c-cd395713b0fb button.colab-df-convert');\n",
              "        buttonEl.style.display =\n",
              "          google.colab.kernel.accessAllowed ? 'block' : 'none';\n",
              "\n",
              "        async function convertToInteractive(key) {\n",
              "          const element = document.querySelector('#df-5d982523-fad3-4692-837c-cd395713b0fb');\n",
              "          const dataTable =\n",
              "            await google.colab.kernel.invokeFunction('convertToInteractive',\n",
              "                                                     [key], {});\n",
              "          if (!dataTable) return;\n",
              "\n",
              "          const docLinkHtml = 'Like what you see? Visit the ' +\n",
              "            '<a target=\"_blank\" href=https://colab.research.google.com/notebooks/data_table.ipynb>data table notebook</a>'\n",
              "            + ' to learn more about interactive tables.';\n",
              "          element.innerHTML = '';\n",
              "          dataTable['output_type'] = 'display_data';\n",
              "          await google.colab.output.renderOutput(dataTable, element);\n",
              "          const docLink = document.createElement('div');\n",
              "          docLink.innerHTML = docLinkHtml;\n",
              "          element.appendChild(docLink);\n",
              "        }\n",
              "      </script>\n",
              "    </div>\n",
              "  </div>\n",
              "  "
            ]
          },
          "metadata": {}
        }
      ],
      "source": [
        "from sklearn.datasets import load_iris\n",
        "import pandas as pd\n",
        "\n",
        "# plot_iris_grid code here\n",
        "iris = load_iris()\n",
        "iris_df = pd.DataFrame(iris.data, columns=iris.feature_names)\n",
        "display(iris_df.head())"
      ]
    },
    {
      "cell_type": "code",
      "execution_count": 11,
      "metadata": {
        "nbgrader": {
          "checksum": "e943372f6c350987929750bb43e37729",
          "grade": true,
          "grade_id": "cell-fc6a0f4ea3e7d63d",
          "locked": true,
          "points": 10,
          "schema_version": 1,
          "solution": false
        },
        "id": "8LMHArFQQg8K"
      },
      "outputs": [],
      "source": [
        "# plot_iris_grid code here\n",
        "import matplotlib.pyplot as plt\n",
        "\n",
        "def plot_iris_grid(iris_df):\n",
        "  n = len(iris_df)\n",
        "  fig, ax = plt.subplots(n, n, figsize=(16, 16))\n",
        "\n",
        "  colors = ['pink', 'cyan', 'yellow']\n",
        "\n",
        "  for x in range(n):\n",
        "      for y in range(n):\n",
        "          xname = iris.feature_names[x]\n",
        "          yname = iris.feature_names[y]\n",
        "          for color_ind in range(len(iris.target_names)):\n",
        "                ax[x, y].scatter(iris_df[iris.target==color_ind, x], \n",
        "                             iris.data[iris.target==color_ind, y],\n",
        "                             label=iris.target_names[color_ind],\n",
        "                             c=colors[color_ind])\n",
        "\n",
        "          ax[x, y].set_xlabel(xname)\n",
        "          ax[x, y].set_ylabel(yname)\n",
        "  plt.show()"
      ]
    },
    {
      "cell_type": "markdown",
      "metadata": {
        "id": "KffWxKhnQg8L"
      },
      "source": [
        "##### Grading Feedback Cell"
      ]
    },
    {
      "cell_type": "markdown",
      "metadata": {
        "id": "4CaTdDeZQg8L"
      },
      "source": [
        "#### Question 6 (20 pts) Pandas"
      ]
    },
    {
      "cell_type": "markdown",
      "metadata": {
        "id": "a8gTIp-kQg8L"
      },
      "source": [
        "6a (4 pts): Read the supplied potholes_2016.csv file into a pandas dataframe named potholes.  Save the shape of the potholes dataframe in a variable named potholes_shape.  Display the potholes_shape variable.  Display the head of the potholes dataframe.  "
      ]
    },
    {
      "cell_type": "code",
      "execution_count": 12,
      "metadata": {
        "id": "03tIJYYmQg8L",
        "colab": {
          "base_uri": "https://localhost:8080/",
          "height": 548
        },
        "outputId": "7e3651b3-9b64-4dc2-8303-299735927e6c"
      },
      "outputs": [
        {
          "output_type": "stream",
          "name": "stdout",
          "text": [
            "(7488, 10)\n"
          ]
        },
        {
          "output_type": "execute_result",
          "data": {
            "text/plain": [
              "  StreetNumber StreetName StreetNamePostType Directional  \\\n",
              "0          215  COMSTOCK                 AVE               \n",
              "1          700   MIDLAND                 AVE               \n",
              "2         1604     GRANT                BLVD               \n",
              "3          261    HOPPER                  RD               \n",
              "4         1821    VALLEY                  DR               \n",
              "\n",
              "                         strLocation           dtTime  streetID VehicleName  \\\n",
              "0      215 COMSTOCK AVE & HARRISON S   4/14/2016 8:57  12578124         DP2   \n",
              "1   700-06 MIDLAND AVE & CASTLE ST W   4/15/2016 9:01  12573231         DP1   \n",
              "2  1604-08 GRANT BLVD & WOODRUFF AVE  4/15/2016 13:03  12580306         DP1   \n",
              "3                      261 HOPPER RD  4/18/2016 10:39  12571704         DP2   \n",
              "4     1821 VALLEY DR & CHAFFEE AVE E  4/18/2016 10:52  12571710         DP2   \n",
              "\n",
              "    Latitude  Longitude  \n",
              "0 -76.130140  43.044159  \n",
              "1 -76.154074  43.031314  \n",
              "2 -76.138284  43.072356  \n",
              "3 -76.159681  42.998028  \n",
              "4 -76.152482  42.997837  "
            ],
            "text/html": [
              "\n",
              "  <div id=\"df-6070c07d-12f6-4b0c-93e7-e8c3dd46e7e7\">\n",
              "    <div class=\"colab-df-container\">\n",
              "      <div>\n",
              "<style scoped>\n",
              "    .dataframe tbody tr th:only-of-type {\n",
              "        vertical-align: middle;\n",
              "    }\n",
              "\n",
              "    .dataframe tbody tr th {\n",
              "        vertical-align: top;\n",
              "    }\n",
              "\n",
              "    .dataframe thead th {\n",
              "        text-align: right;\n",
              "    }\n",
              "</style>\n",
              "<table border=\"1\" class=\"dataframe\">\n",
              "  <thead>\n",
              "    <tr style=\"text-align: right;\">\n",
              "      <th></th>\n",
              "      <th>StreetNumber</th>\n",
              "      <th>StreetName</th>\n",
              "      <th>StreetNamePostType</th>\n",
              "      <th>Directional</th>\n",
              "      <th>strLocation</th>\n",
              "      <th>dtTime</th>\n",
              "      <th>streetID</th>\n",
              "      <th>VehicleName</th>\n",
              "      <th>Latitude</th>\n",
              "      <th>Longitude</th>\n",
              "    </tr>\n",
              "  </thead>\n",
              "  <tbody>\n",
              "    <tr>\n",
              "      <th>0</th>\n",
              "      <td>215</td>\n",
              "      <td>COMSTOCK</td>\n",
              "      <td>AVE</td>\n",
              "      <td></td>\n",
              "      <td>215 COMSTOCK AVE &amp; HARRISON S</td>\n",
              "      <td>4/14/2016 8:57</td>\n",
              "      <td>12578124</td>\n",
              "      <td>DP2</td>\n",
              "      <td>-76.130140</td>\n",
              "      <td>43.044159</td>\n",
              "    </tr>\n",
              "    <tr>\n",
              "      <th>1</th>\n",
              "      <td>700</td>\n",
              "      <td>MIDLAND</td>\n",
              "      <td>AVE</td>\n",
              "      <td></td>\n",
              "      <td>700-06 MIDLAND AVE &amp; CASTLE ST W</td>\n",
              "      <td>4/15/2016 9:01</td>\n",
              "      <td>12573231</td>\n",
              "      <td>DP1</td>\n",
              "      <td>-76.154074</td>\n",
              "      <td>43.031314</td>\n",
              "    </tr>\n",
              "    <tr>\n",
              "      <th>2</th>\n",
              "      <td>1604</td>\n",
              "      <td>GRANT</td>\n",
              "      <td>BLVD</td>\n",
              "      <td></td>\n",
              "      <td>1604-08 GRANT BLVD &amp; WOODRUFF AVE</td>\n",
              "      <td>4/15/2016 13:03</td>\n",
              "      <td>12580306</td>\n",
              "      <td>DP1</td>\n",
              "      <td>-76.138284</td>\n",
              "      <td>43.072356</td>\n",
              "    </tr>\n",
              "    <tr>\n",
              "      <th>3</th>\n",
              "      <td>261</td>\n",
              "      <td>HOPPER</td>\n",
              "      <td>RD</td>\n",
              "      <td></td>\n",
              "      <td>261 HOPPER RD</td>\n",
              "      <td>4/18/2016 10:39</td>\n",
              "      <td>12571704</td>\n",
              "      <td>DP2</td>\n",
              "      <td>-76.159681</td>\n",
              "      <td>42.998028</td>\n",
              "    </tr>\n",
              "    <tr>\n",
              "      <th>4</th>\n",
              "      <td>1821</td>\n",
              "      <td>VALLEY</td>\n",
              "      <td>DR</td>\n",
              "      <td></td>\n",
              "      <td>1821 VALLEY DR &amp; CHAFFEE AVE E</td>\n",
              "      <td>4/18/2016 10:52</td>\n",
              "      <td>12571710</td>\n",
              "      <td>DP2</td>\n",
              "      <td>-76.152482</td>\n",
              "      <td>42.997837</td>\n",
              "    </tr>\n",
              "  </tbody>\n",
              "</table>\n",
              "</div>\n",
              "      <button class=\"colab-df-convert\" onclick=\"convertToInteractive('df-6070c07d-12f6-4b0c-93e7-e8c3dd46e7e7')\"\n",
              "              title=\"Convert this dataframe to an interactive table.\"\n",
              "              style=\"display:none;\">\n",
              "        \n",
              "  <svg xmlns=\"http://www.w3.org/2000/svg\" height=\"24px\"viewBox=\"0 0 24 24\"\n",
              "       width=\"24px\">\n",
              "    <path d=\"M0 0h24v24H0V0z\" fill=\"none\"/>\n",
              "    <path d=\"M18.56 5.44l.94 2.06.94-2.06 2.06-.94-2.06-.94-.94-2.06-.94 2.06-2.06.94zm-11 1L8.5 8.5l.94-2.06 2.06-.94-2.06-.94L8.5 2.5l-.94 2.06-2.06.94zm10 10l.94 2.06.94-2.06 2.06-.94-2.06-.94-.94-2.06-.94 2.06-2.06.94z\"/><path d=\"M17.41 7.96l-1.37-1.37c-.4-.4-.92-.59-1.43-.59-.52 0-1.04.2-1.43.59L10.3 9.45l-7.72 7.72c-.78.78-.78 2.05 0 2.83L4 21.41c.39.39.9.59 1.41.59.51 0 1.02-.2 1.41-.59l7.78-7.78 2.81-2.81c.8-.78.8-2.07 0-2.86zM5.41 20L4 18.59l7.72-7.72 1.47 1.35L5.41 20z\"/>\n",
              "  </svg>\n",
              "      </button>\n",
              "      \n",
              "  <style>\n",
              "    .colab-df-container {\n",
              "      display:flex;\n",
              "      flex-wrap:wrap;\n",
              "      gap: 12px;\n",
              "    }\n",
              "\n",
              "    .colab-df-convert {\n",
              "      background-color: #E8F0FE;\n",
              "      border: none;\n",
              "      border-radius: 50%;\n",
              "      cursor: pointer;\n",
              "      display: none;\n",
              "      fill: #1967D2;\n",
              "      height: 32px;\n",
              "      padding: 0 0 0 0;\n",
              "      width: 32px;\n",
              "    }\n",
              "\n",
              "    .colab-df-convert:hover {\n",
              "      background-color: #E2EBFA;\n",
              "      box-shadow: 0px 1px 2px rgba(60, 64, 67, 0.3), 0px 1px 3px 1px rgba(60, 64, 67, 0.15);\n",
              "      fill: #174EA6;\n",
              "    }\n",
              "\n",
              "    [theme=dark] .colab-df-convert {\n",
              "      background-color: #3B4455;\n",
              "      fill: #D2E3FC;\n",
              "    }\n",
              "\n",
              "    [theme=dark] .colab-df-convert:hover {\n",
              "      background-color: #434B5C;\n",
              "      box-shadow: 0px 1px 3px 1px rgba(0, 0, 0, 0.15);\n",
              "      filter: drop-shadow(0px 1px 2px rgba(0, 0, 0, 0.3));\n",
              "      fill: #FFFFFF;\n",
              "    }\n",
              "  </style>\n",
              "\n",
              "      <script>\n",
              "        const buttonEl =\n",
              "          document.querySelector('#df-6070c07d-12f6-4b0c-93e7-e8c3dd46e7e7 button.colab-df-convert');\n",
              "        buttonEl.style.display =\n",
              "          google.colab.kernel.accessAllowed ? 'block' : 'none';\n",
              "\n",
              "        async function convertToInteractive(key) {\n",
              "          const element = document.querySelector('#df-6070c07d-12f6-4b0c-93e7-e8c3dd46e7e7');\n",
              "          const dataTable =\n",
              "            await google.colab.kernel.invokeFunction('convertToInteractive',\n",
              "                                                     [key], {});\n",
              "          if (!dataTable) return;\n",
              "\n",
              "          const docLinkHtml = 'Like what you see? Visit the ' +\n",
              "            '<a target=\"_blank\" href=https://colab.research.google.com/notebooks/data_table.ipynb>data table notebook</a>'\n",
              "            + ' to learn more about interactive tables.';\n",
              "          element.innerHTML = '';\n",
              "          dataTable['output_type'] = 'display_data';\n",
              "          await google.colab.output.renderOutput(dataTable, element);\n",
              "          const docLink = document.createElement('div');\n",
              "          docLink.innerHTML = docLinkHtml;\n",
              "          element.appendChild(docLink);\n",
              "        }\n",
              "      </script>\n",
              "    </div>\n",
              "  </div>\n",
              "  "
            ]
          },
          "metadata": {},
          "execution_count": 12
        }
      ],
      "source": [
        "# Create potholes dataframe, potholes_shape variables here\n",
        "import pandas as pd\n",
        "\n",
        "potholes = pd.read_csv(\"potholes_2016.csv\")\n",
        "\n",
        "potholes_shape = potholes.shape\n",
        "\n",
        "print(potholes_shape)\n",
        "\n",
        "potholes.head()"
      ]
    },
    {
      "cell_type": "code",
      "execution_count": 13,
      "metadata": {
        "deletable": false,
        "editable": false,
        "nbgrader": {
          "checksum": "da34aac4c035b267f3ff5816fd031fba",
          "grade": true,
          "grade_id": "cell-17c0ac01cace4b18",
          "locked": true,
          "points": 10,
          "schema_version": 1,
          "solution": false
        },
        "id": "6jOWRlTIQg8L"
      },
      "outputs": [],
      "source": [
        "# for grading use only (question 6a)\n"
      ]
    },
    {
      "cell_type": "markdown",
      "metadata": {
        "id": "_RGPHprrQg8L"
      },
      "source": [
        "##### Grading Feedback Cell"
      ]
    },
    {
      "cell_type": "markdown",
      "metadata": {
        "id": "bq9fRNdHQg8L"
      },
      "source": [
        "6b (4 pts): Count the total number of NAN values in the potholes dataframe and store in a variable named total_nan.  Print the total_nan variable."
      ]
    },
    {
      "cell_type": "code",
      "execution_count": 14,
      "metadata": {
        "id": "jPteUmvSQg8M",
        "colab": {
          "base_uri": "https://localhost:8080/"
        },
        "outputId": "68e4a9cc-e6fd-4c84-b494-6c9dafa3eb28"
      },
      "outputs": [
        {
          "output_type": "stream",
          "name": "stdout",
          "text": [
            "StreetNumber          0\n",
            "StreetName            0\n",
            "StreetNamePostType    0\n",
            "Directional           0\n",
            "strLocation           0\n",
            "dtTime                0\n",
            "streetID              0\n",
            "VehicleName           0\n",
            "Latitude              0\n",
            "Longitude             0\n",
            "dtype: int64\n"
          ]
        }
      ],
      "source": [
        "# Your nan count code here\n",
        "total_nan = potholes.isna().sum()\n",
        "print(total_nan)"
      ]
    },
    {
      "cell_type": "code",
      "execution_count": 15,
      "metadata": {
        "deletable": false,
        "editable": false,
        "nbgrader": {
          "checksum": "da34aac4c035b267f3ff5816fd031fba",
          "grade": true,
          "grade_id": "cell-17c0ac01cace4b18",
          "locked": true,
          "points": 10,
          "schema_version": 1,
          "solution": false
        },
        "id": "Dx3bk_MoQg8M"
      },
      "outputs": [],
      "source": [
        "# for grading use only (question 6b)\n"
      ]
    },
    {
      "cell_type": "markdown",
      "metadata": {
        "id": "Fulle3WhQg8M"
      },
      "source": [
        "##### Grading Feedback Cell"
      ]
    },
    {
      "cell_type": "markdown",
      "metadata": {
        "id": "TEjhUEhtQg8M"
      },
      "source": [
        "6c (4 pts): Count the number of unique street names in the dataframe and store in a variable named unique_street_name_count.  Print unique_street_name_count."
      ]
    },
    {
      "cell_type": "code",
      "execution_count": 16,
      "metadata": {
        "id": "SAvG1UuXQg8M",
        "colab": {
          "base_uri": "https://localhost:8080/"
        },
        "outputId": "0ce51281-fa32-4f9e-91e0-a1c0651ff99a"
      },
      "outputs": [
        {
          "output_type": "stream",
          "name": "stdout",
          "text": [
            "413\n"
          ]
        }
      ],
      "source": [
        "# your unique street name count here\n",
        "unique_street_name_count = potholes[\"StreetName\"].nunique()\n",
        "print(unique_street_name_count)"
      ]
    },
    {
      "cell_type": "code",
      "execution_count": 17,
      "metadata": {
        "deletable": false,
        "editable": false,
        "nbgrader": {
          "checksum": "da34aac4c035b267f3ff5816fd031fba",
          "grade": true,
          "grade_id": "cell-17c0ac01cace4b18",
          "locked": true,
          "points": 10,
          "schema_version": 1,
          "solution": false
        },
        "id": "KI4ig3CaQg8M"
      },
      "outputs": [],
      "source": [
        "# for grading use only (question 6c)"
      ]
    },
    {
      "cell_type": "markdown",
      "metadata": {
        "id": "VYNs6NOkQg8M"
      },
      "source": [
        "##### Grading Feedback Cell"
      ]
    },
    {
      "cell_type": "markdown",
      "metadata": {
        "id": "iToBVV_pQg8M"
      },
      "source": [
        "6d (4 pts): Use the pandas groupby feature to create a new dataframe called street_pothole_sum which summarizes the total number of potholes by street.  You are essentially counting the number of rows by street name.  The rows of street_pothole_sum should be the labeled with street name.  There should be a single column in street_pothole_sum dataframe named num_potholes.  Print the head and shape of the street_pothole_sum dataframe."
      ]
    },
    {
      "cell_type": "code",
      "execution_count": 18,
      "metadata": {
        "scrolled": true,
        "id": "mPb6gbYIQg8N",
        "colab": {
          "base_uri": "https://localhost:8080/"
        },
        "outputId": "2d0852d3-f1d8-48df-a1f2-e1874fb488b8"
      },
      "outputs": [
        {
          "output_type": "stream",
          "name": "stdout",
          "text": [
            "StreetName\n",
            "ACADEMY      76\n",
            "ACKERMAN      5\n",
            "ADAMS        17\n",
            "AINSLEY       7\n",
            "ALANSON       4\n",
            "dtype: int64\n",
            "(413,)\n"
          ]
        }
      ],
      "source": [
        "# street_pothole_sum code here\n",
        "street_pothole_sum = potholes.groupby(['StreetName']).size()\n",
        "\n",
        "num_potholes = potholes['StreetNumber'].sum()\n",
        "\n",
        "print(street_pothole_sum.head())\n",
        "\n",
        "print(street_pothole_sum.shape)\n"
      ]
    },
    {
      "cell_type": "code",
      "execution_count": 19,
      "metadata": {
        "deletable": false,
        "editable": false,
        "nbgrader": {
          "checksum": "da34aac4c035b267f3ff5816fd031fba",
          "grade": true,
          "grade_id": "cell-17c0ac01cace4b18",
          "locked": true,
          "points": 10,
          "schema_version": 1,
          "solution": false
        },
        "id": "-8868BXGQg8N"
      },
      "outputs": [],
      "source": [
        "# for grading use only (question 6d)"
      ]
    },
    {
      "cell_type": "markdown",
      "metadata": {
        "id": "69tGoW2AQg8N"
      },
      "source": [
        "##### Grading Feedback Cell"
      ]
    },
    {
      "cell_type": "markdown",
      "metadata": {
        "id": "0kHNkSzAQg8N"
      },
      "source": [
        "6e (4 pts) Save the number of potholes on Comstock Ave in a variable named num_potholes_comstock and display the variable. The num_potholes_comstock variable should be an integer type.  Print num_potholes_comstock."
      ]
    },
    {
      "cell_type": "code",
      "execution_count": 20,
      "metadata": {
        "id": "2ZCQ1OV0Qg8N",
        "colab": {
          "base_uri": "https://localhost:8080/"
        },
        "outputId": "30c04631-6dfe-43ae-e3c8-3779d0016d7d"
      },
      "outputs": [
        {
          "output_type": "stream",
          "name": "stdout",
          "text": [
            "StreetNumber          10\n",
            "StreetName            10\n",
            "StreetNamePostType    10\n",
            "Directional           10\n",
            "strLocation           10\n",
            "dtTime                10\n",
            "streetID              10\n",
            "VehicleName           10\n",
            "Latitude              10\n",
            "Longitude             10\n",
            "dtype: int64\n"
          ]
        }
      ],
      "source": [
        "# num_potholes_comstock code here\n",
        "num_potholes_comstock = potholes[potholes['StreetName'].str.contains(\"COMSTOCK\")].count()\n",
        "print(num_potholes_comstock)"
      ]
    },
    {
      "cell_type": "code",
      "execution_count": 21,
      "metadata": {
        "deletable": false,
        "editable": false,
        "nbgrader": {
          "checksum": "da34aac4c035b267f3ff5816fd031fba",
          "grade": true,
          "grade_id": "cell-17c0ac01cace4b18",
          "locked": true,
          "points": 10,
          "schema_version": 1,
          "solution": false
        },
        "id": "0KxaQh6QQg8N"
      },
      "outputs": [],
      "source": [
        "# for grading use only (question 6e)"
      ]
    },
    {
      "cell_type": "markdown",
      "metadata": {
        "id": "bxYAGD2pQg8N"
      },
      "source": [
        "##### Grading Feedback Cell"
      ]
    },
    {
      "cell_type": "markdown",
      "metadata": {
        "id": "zAfMc-RaQg8N"
      },
      "source": [
        "#### Question 7 (10 pts): Create a function named my_corr_coef that takes as input 2 numpy single dimensional arrays and returns the correlation coefficient to the caller.  Note that your function does not have to work for matrices.  The correlation coefficient is a number of type float between -1 and 1.  The my_corr_coef function should not use any built in numpy functions to calculate the correlation.  For example, don't use the built in numpy corrcoef function, don't use np.mean, etc.  Make sure to check for input error conditions and return the Python 'None' type if the correlation coefficient cannot be computed due to problems with the input data.  See [equation 3](https://en.wikipedia.org/wiki/Pearson_correlation_coefficient) as a reference on how to compute correlation."
      ]
    },
    {
      "cell_type": "code",
      "execution_count": 22,
      "metadata": {
        "id": "XIJOUanLQg8N"
      },
      "outputs": [],
      "source": [
        "# my_corr_coef here\n",
        "def my_corr_coef(a, b):\n",
        "    n = len(a)\n",
        "    sum_a = float(sum(a))\n",
        "    sum_b = float(sum(b))\n",
        "    sum_a_sq = sum(ai*ai for ai in a)\n",
        "    sum_b_sq = sum(bi*bi for bi in b)\n",
        "    psum = sum(ai*bi for ai, bi in zip(a, b))\n",
        "    num = psum - (sum_a * sum_b/n)\n",
        "    deno = pow((sum_a_sq - pow(sum_a, 2) / n) * (sum_b_sq - pow(sum_b, 2) / n), 0.5)\n",
        "    if deno == 0: return 0\n",
        "    return num / deno\n",
        "    return[]"
      ]
    },
    {
      "cell_type": "code",
      "execution_count": 23,
      "metadata": {
        "deletable": false,
        "editable": false,
        "nbgrader": {
          "checksum": "da34aac4c035b267f3ff5816fd031fba",
          "grade": true,
          "grade_id": "cell-17c0ac01cace4b18",
          "locked": true,
          "points": 10,
          "schema_version": 1,
          "solution": false
        },
        "id": "hZRAFCyfQg8O",
        "colab": {
          "base_uri": "https://localhost:8080/"
        },
        "outputId": "1ac197d4-4c1c-4014-e596-ba7d12cf7c21"
      },
      "outputs": [
        {
          "output_type": "execute_result",
          "data": {
            "text/plain": [
              "0.9953500135553002"
            ]
          },
          "metadata": {},
          "execution_count": 23
        }
      ],
      "source": [
        "# for grading use only (question 7)\n",
        "a = np.array([1,2,3,4,6,7,8,9])\n",
        "b = np.array([2,4,6,8,10,12,13,15])\n",
        "my_corr_coef(a,b)"
      ]
    },
    {
      "cell_type": "markdown",
      "metadata": {
        "id": "-yL36x5kQg8O"
      },
      "source": [
        "##### Grading Feedback Cell"
      ]
    }
  ],
  "metadata": {
    "celltoolbar": "Edit Metadata",
    "kernel_info": {
      "name": "python3"
    },
    "kernelspec": {
      "display_name": "Python 3",
      "language": "python",
      "name": "python3"
    },
    "language_info": {
      "codemirror_mode": {
        "name": "ipython",
        "version": 3
      },
      "file_extension": ".py",
      "mimetype": "text/x-python",
      "name": "python",
      "nbconvert_exporter": "python",
      "pygments_lexer": "ipython3",
      "version": "3.7.7"
    },
    "name": "lab1-no-key",
    "notebookId": 3197279189044075,
    "nteract": {
      "version": "0.12.3"
    },
    "colab": {
      "provenance": []
    }
  },
  "nbformat": 4,
  "nbformat_minor": 0
}